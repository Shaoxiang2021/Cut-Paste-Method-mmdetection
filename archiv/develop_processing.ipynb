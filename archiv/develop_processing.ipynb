{
 "cells": [
  {
   "cell_type": "code",
   "execution_count": 1,
   "metadata": {},
   "outputs": [
    {
     "name": "stdout",
     "output_type": "stream",
     "text": [
      "generate images and coco labels ...\n"
     ]
    },
    {
     "name": "stderr",
     "output_type": "stream",
     "text": [
      "100%|██████████| 50/50 [01:27<00:00,  1.76s/it]\n"
     ]
    },
    {
     "name": "stdout",
     "output_type": "stream",
     "text": [
      "generate coco format json files ...\n"
     ]
    },
    {
     "name": "stderr",
     "output_type": "stream",
     "text": [
      "processing train ...: 100%|██████████| 40/40 [00:00<00:00, 142.80it/s]\n",
      "processing val ...: 100%|██████████| 10/10 [00:00<00:00, 158.46it/s]\n"
     ]
    },
    {
     "name": "stdout",
     "output_type": "stream",
     "text": [
      "completed ...\n"
     ]
    }
   ],
   "source": [
    "from processing import ImageGenerator\n",
    "import config\n",
    "\n",
    "imageGnerator = ImageGenerator(**config.config_parameters)\n",
    "imageGnerator.image_generation()"
   ]
  },
  {
   "cell_type": "code",
   "execution_count": null,
   "metadata": {},
   "outputs": [],
   "source": [
    "imageGnerator.augmentationGenerator.obj_info"
   ]
  },
  {
   "cell_type": "code",
   "execution_count": null,
   "metadata": {},
   "outputs": [],
   "source": [
    "# main function\n",
    "\n",
    "obj_dic = {'cylinder': 1, 'plate': 2, 'usb': 3}\n",
    "\n",
    "source_root = r\"C:\\Users\\tsx10\\PythonProjectsJupyter\\TUM\\MA\\Paste-Step-new\\data\\synthetic_images\"\n",
    "output_root = r\"C:\\Users\\tsx10\\PythonProjectsJupyter\\TUM\\MA\\Paste-Step-new\\data\\synthetic_images\\v-1-1\"\n",
    "\n",
    "gen_params = {\n",
    "    'overlay_condition': False,\n",
    "    'num_images': 100,\n",
    "    'seed': 1,\n",
    "    'iter': 5\n",
    "}\n",
    "\n",
    "aug_params = {\n",
    "    'size_x': 720,\n",
    "    'size_y': 540,\n",
    "    'min_obj': 2,\n",
    "    'max_obj': 6,\n",
    "    'shadow_strength': 0.25\n",
    "}"
   ]
  },
  {
   "cell_type": "code",
   "execution_count": null,
   "metadata": {},
   "outputs": [],
   "source": [
    "from processing import ImageGenerator\n",
    "\n",
    "imageGnerator = ImageGenerator(obj_dic, source_root, output_root, gen_params, aug_params)\n",
    "imageGnerator.image_generation()"
   ]
  },
  {
   "cell_type": "code",
   "execution_count": null,
   "metadata": {},
   "outputs": [],
   "source": [
    "import matplotlib.pyplot as plt\n",
    "\n",
    "def show_object_and_mask(img_obj_RGB, img_obj_alpha):\n",
    "    \n",
    "    if img_obj_RGB is not None and img_obj_alpha is not None:\n",
    "        plt.subplot(1, 2, 1)\n",
    "        plt.imshow(img_obj_RGB)\n",
    "        plt.title('Color Image')\n",
    "        plt.subplot(1, 2, 2)\n",
    "        plt.imshow(img_obj_alpha, cmap='gray')\n",
    "        plt.title('Alpha Channel Grayscale Image')\n",
    "        plt.show()\n",
    "    \n",
    "    elif img_obj_RGB is None:\n",
    "        plt.imshow(img_obj_alpha, cmap='gray')\n",
    "        plt.title('Alpha Channel Grayscale Image')\n",
    "        plt.show()\n",
    "\n",
    "    else:\n",
    "        plt.imshow(img_obj_RGB)\n",
    "        plt.title('Color Image')\n",
    "        plt.show()"
   ]
  }
 ],
 "metadata": {
  "kernelspec": {
   "display_name": "Computer_Vision",
   "language": "python",
   "name": "python3"
  },
  "language_info": {
   "codemirror_mode": {
    "name": "ipython",
    "version": 3
   },
   "file_extension": ".py",
   "mimetype": "text/x-python",
   "name": "python",
   "nbconvert_exporter": "python",
   "pygments_lexer": "ipython3",
   "version": "3.9.16"
  }
 },
 "nbformat": 4,
 "nbformat_minor": 2
}
